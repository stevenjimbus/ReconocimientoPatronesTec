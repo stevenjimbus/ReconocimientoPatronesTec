{
  "nbformat": 4,
  "nbformat_minor": 0,
  "metadata": {
    "colab": {
      "name": "InvCorta3.ipynb",
      "provenance": [],
      "collapsed_sections": []
    },
    "kernelspec": {
      "name": "python3",
      "display_name": "Python 3"
    },
    "language_info": {
      "name": "python"
    }
  },
  "cells": [
    {
      "cell_type": "markdown",
      "metadata": {
        "id": "iArBvikhkmI6"
      },
      "source": [
        "Dataset \n",
        "https://www.kaggle.com/yashsawarn/wifi-stretgth-for-rooms?select=train.csv"
      ]
    },
    {
      "cell_type": "markdown",
      "metadata": {
        "id": "pNBob8vHcAXh"
      },
      "source": [
        "El objetivo de la Investigacion Corta #3 consiste en elegir un conjunto de datos de baja-mediana complejidad\n",
        "y aplicarle algunos algoritmos supervisados de su eleccion, de la siguiente forma:\n",
        "\n",
        "\n",
        "• Una vez definida la ruta de accion a partir de sus datos y el tipo de problema a atacar (predicción o clasificacion), debe aplicar 3 metodos de los vistos en clase, haciendo el analisis completo de los resultados que obtenga y modificando los hiper-parametros de acuerdo a su problema particular. De ser necesario un pre-procesado, debe llevarlo a cabo."
      ]
    },
    {
      "cell_type": "code",
      "metadata": {
        "colab": {
          "base_uri": "https://localhost:8080/"
        },
        "id": "yNdwksE_lJjC",
        "outputId": "db491412-a546-49b4-a14f-11a6d8be7abc"
      },
      "source": [
        "import torch\n",
        "import pandas as pd\n",
        "import numpy as np\n",
        "from sklearn import preprocessing\n",
        "from sklearn.preprocessing import Normalizer\n",
        "from sklearn.model_selection import train_test_split\n",
        "from sklearn.neighbors import KNeighborsClassifier\n",
        "import sys\n",
        "np.set_printoptions(threshold=sys.maxsize)\n",
        "\n",
        "\n",
        "from google.colab import drive\n",
        "drive.mount('/content/drive/')\n"
      ],
      "execution_count": 120,
      "outputs": [
        {
          "output_type": "stream",
          "text": [
            "Drive already mounted at /content/drive/; to attempt to forcibly remount, call drive.mount(\"/content/drive/\", force_remount=True).\n"
          ],
          "name": "stdout"
        }
      ]
    },
    {
      "cell_type": "markdown",
      "metadata": {
        "id": "jTAQ_qLuCuO8"
      },
      "source": [
        "# Cargar Dataset para analisis de Clasificación\n",
        "\n",
        "**Descripción del Dataset:** Este dataset consite en clasificar la variable \"Room\"  (Labels), basado en la intensidad de la señal de distintos routers llamados \"A\", \"B\", \"C\", \"D\", \"E\", \"F\", \"G\" (Features).  \n",
        "\n",
        "Importante: Unidad de medición de los features:  (dBm) -> dBmW o decibelio-miliWatt"
      ]
    },
    {
      "cell_type": "code",
      "metadata": {
        "colab": {
          "base_uri": "https://localhost:8080/",
          "height": 224
        },
        "id": "k_Jpl70gmAbO",
        "outputId": "8b291f2a-6129-4b07-a551-86007388035e"
      },
      "source": [
        "csv_location = '/content/drive/MyDrive/Colab Notebooks/BSC/Reconocimiento Patrones/INV3/dataset_wifi_stretgth_for_rooms.csv'\n",
        "data_frame_raw = pd.read_table(csv_location, delimiter = ',' , names=('ID','A', 'B', 'C', 'D','E', 'F', 'G', 'ROOM'),\n",
        "                       dtype={'ID': np.str,'A': np.int16, 'B': np.int16, 'C': np.int16, 'D': np.int16,'E': np.int16,'F': np.int16,'G': np.int16,'ROOM': np.str})\n",
        "print(\"Shape of Dataframe:\", data_frame_raw.shape)\n",
        "data_frame_raw.head(5)"
      ],
      "execution_count": 121,
      "outputs": [
        {
          "output_type": "stream",
          "text": [
            "Shape of Dataframe: (1500, 9)\n"
          ],
          "name": "stdout"
        },
        {
          "output_type": "execute_result",
          "data": {
            "text/html": [
              "<div>\n",
              "<style scoped>\n",
              "    .dataframe tbody tr th:only-of-type {\n",
              "        vertical-align: middle;\n",
              "    }\n",
              "\n",
              "    .dataframe tbody tr th {\n",
              "        vertical-align: top;\n",
              "    }\n",
              "\n",
              "    .dataframe thead th {\n",
              "        text-align: right;\n",
              "    }\n",
              "</style>\n",
              "<table border=\"1\" class=\"dataframe\">\n",
              "  <thead>\n",
              "    <tr style=\"text-align: right;\">\n",
              "      <th></th>\n",
              "      <th>ID</th>\n",
              "      <th>A</th>\n",
              "      <th>B</th>\n",
              "      <th>C</th>\n",
              "      <th>D</th>\n",
              "      <th>E</th>\n",
              "      <th>F</th>\n",
              "      <th>G</th>\n",
              "      <th>ROOM</th>\n",
              "    </tr>\n",
              "  </thead>\n",
              "  <tbody>\n",
              "    <tr>\n",
              "      <th>0</th>\n",
              "      <td>ID_1</td>\n",
              "      <td>-64</td>\n",
              "      <td>-56</td>\n",
              "      <td>-61</td>\n",
              "      <td>-66</td>\n",
              "      <td>-71</td>\n",
              "      <td>-82</td>\n",
              "      <td>-81</td>\n",
              "      <td>1</td>\n",
              "    </tr>\n",
              "    <tr>\n",
              "      <th>1</th>\n",
              "      <td>ID_2</td>\n",
              "      <td>-68</td>\n",
              "      <td>-57</td>\n",
              "      <td>-61</td>\n",
              "      <td>-65</td>\n",
              "      <td>-71</td>\n",
              "      <td>-85</td>\n",
              "      <td>-85</td>\n",
              "      <td>1</td>\n",
              "    </tr>\n",
              "    <tr>\n",
              "      <th>2</th>\n",
              "      <td>ID_3</td>\n",
              "      <td>-63</td>\n",
              "      <td>-60</td>\n",
              "      <td>-60</td>\n",
              "      <td>-67</td>\n",
              "      <td>-76</td>\n",
              "      <td>-85</td>\n",
              "      <td>-84</td>\n",
              "      <td>1</td>\n",
              "    </tr>\n",
              "    <tr>\n",
              "      <th>3</th>\n",
              "      <td>ID_4</td>\n",
              "      <td>-61</td>\n",
              "      <td>-60</td>\n",
              "      <td>-68</td>\n",
              "      <td>-62</td>\n",
              "      <td>-77</td>\n",
              "      <td>-90</td>\n",
              "      <td>-80</td>\n",
              "      <td>1</td>\n",
              "    </tr>\n",
              "    <tr>\n",
              "      <th>4</th>\n",
              "      <td>ID_5</td>\n",
              "      <td>-63</td>\n",
              "      <td>-65</td>\n",
              "      <td>-60</td>\n",
              "      <td>-63</td>\n",
              "      <td>-77</td>\n",
              "      <td>-81</td>\n",
              "      <td>-87</td>\n",
              "      <td>1</td>\n",
              "    </tr>\n",
              "  </tbody>\n",
              "</table>\n",
              "</div>"
            ],
            "text/plain": [
              "     ID   A   B   C   D   E   F   G ROOM\n",
              "0  ID_1 -64 -56 -61 -66 -71 -82 -81    1\n",
              "1  ID_2 -68 -57 -61 -65 -71 -85 -85    1\n",
              "2  ID_3 -63 -60 -60 -67 -76 -85 -84    1\n",
              "3  ID_4 -61 -60 -68 -62 -77 -90 -80    1\n",
              "4  ID_5 -63 -65 -60 -63 -77 -81 -87    1"
            ]
          },
          "metadata": {
            "tags": []
          },
          "execution_count": 121
        }
      ]
    },
    {
      "cell_type": "markdown",
      "metadata": {
        "id": "dbhnk0ffAjFZ"
      },
      "source": [
        "# Exploración de Datos"
      ]
    },
    {
      "cell_type": "markdown",
      "metadata": {
        "id": "P7y4P8yLraQY"
      },
      "source": [
        "Es importante indicar que la columna ID se refiere unicamente al identificador de la instancia, por lo que no existe una relación entre las columnas ID y ROOM. Por lo tanto vamos a eliminar la columna ID. "
      ]
    },
    {
      "cell_type": "code",
      "metadata": {
        "colab": {
          "base_uri": "https://localhost:8080/",
          "height": 205
        },
        "id": "ZkvZ3AcSrrjI",
        "outputId": "3c40689d-c208-40be-9988-7c72f6414678"
      },
      "source": [
        "data_frame = data_frame_raw.drop(['ID'], axis=1)\n",
        "data_frame.head()\n",
        "\n",
        "\n"
      ],
      "execution_count": 122,
      "outputs": [
        {
          "output_type": "execute_result",
          "data": {
            "text/html": [
              "<div>\n",
              "<style scoped>\n",
              "    .dataframe tbody tr th:only-of-type {\n",
              "        vertical-align: middle;\n",
              "    }\n",
              "\n",
              "    .dataframe tbody tr th {\n",
              "        vertical-align: top;\n",
              "    }\n",
              "\n",
              "    .dataframe thead th {\n",
              "        text-align: right;\n",
              "    }\n",
              "</style>\n",
              "<table border=\"1\" class=\"dataframe\">\n",
              "  <thead>\n",
              "    <tr style=\"text-align: right;\">\n",
              "      <th></th>\n",
              "      <th>A</th>\n",
              "      <th>B</th>\n",
              "      <th>C</th>\n",
              "      <th>D</th>\n",
              "      <th>E</th>\n",
              "      <th>F</th>\n",
              "      <th>G</th>\n",
              "      <th>ROOM</th>\n",
              "    </tr>\n",
              "  </thead>\n",
              "  <tbody>\n",
              "    <tr>\n",
              "      <th>0</th>\n",
              "      <td>-64</td>\n",
              "      <td>-56</td>\n",
              "      <td>-61</td>\n",
              "      <td>-66</td>\n",
              "      <td>-71</td>\n",
              "      <td>-82</td>\n",
              "      <td>-81</td>\n",
              "      <td>1</td>\n",
              "    </tr>\n",
              "    <tr>\n",
              "      <th>1</th>\n",
              "      <td>-68</td>\n",
              "      <td>-57</td>\n",
              "      <td>-61</td>\n",
              "      <td>-65</td>\n",
              "      <td>-71</td>\n",
              "      <td>-85</td>\n",
              "      <td>-85</td>\n",
              "      <td>1</td>\n",
              "    </tr>\n",
              "    <tr>\n",
              "      <th>2</th>\n",
              "      <td>-63</td>\n",
              "      <td>-60</td>\n",
              "      <td>-60</td>\n",
              "      <td>-67</td>\n",
              "      <td>-76</td>\n",
              "      <td>-85</td>\n",
              "      <td>-84</td>\n",
              "      <td>1</td>\n",
              "    </tr>\n",
              "    <tr>\n",
              "      <th>3</th>\n",
              "      <td>-61</td>\n",
              "      <td>-60</td>\n",
              "      <td>-68</td>\n",
              "      <td>-62</td>\n",
              "      <td>-77</td>\n",
              "      <td>-90</td>\n",
              "      <td>-80</td>\n",
              "      <td>1</td>\n",
              "    </tr>\n",
              "    <tr>\n",
              "      <th>4</th>\n",
              "      <td>-63</td>\n",
              "      <td>-65</td>\n",
              "      <td>-60</td>\n",
              "      <td>-63</td>\n",
              "      <td>-77</td>\n",
              "      <td>-81</td>\n",
              "      <td>-87</td>\n",
              "      <td>1</td>\n",
              "    </tr>\n",
              "  </tbody>\n",
              "</table>\n",
              "</div>"
            ],
            "text/plain": [
              "    A   B   C   D   E   F   G ROOM\n",
              "0 -64 -56 -61 -66 -71 -82 -81    1\n",
              "1 -68 -57 -61 -65 -71 -85 -85    1\n",
              "2 -63 -60 -60 -67 -76 -85 -84    1\n",
              "3 -61 -60 -68 -62 -77 -90 -80    1\n",
              "4 -63 -65 -60 -63 -77 -81 -87    1"
            ]
          },
          "metadata": {
            "tags": []
          },
          "execution_count": 122
        }
      ]
    },
    {
      "cell_type": "markdown",
      "metadata": {
        "id": "pwxgE9jglehj"
      },
      "source": [
        "A continuación mostramos varias métricas estadísticas de los features"
      ]
    },
    {
      "cell_type": "code",
      "metadata": {
        "colab": {
          "base_uri": "https://localhost:8080/",
          "height": 299
        },
        "id": "If2JDNUxhchP",
        "outputId": "03761b54-4644-4290-b22e-bbb4117c01b7"
      },
      "source": [
        "data_frame.describe()"
      ],
      "execution_count": 123,
      "outputs": [
        {
          "output_type": "execute_result",
          "data": {
            "text/html": [
              "<div>\n",
              "<style scoped>\n",
              "    .dataframe tbody tr th:only-of-type {\n",
              "        vertical-align: middle;\n",
              "    }\n",
              "\n",
              "    .dataframe tbody tr th {\n",
              "        vertical-align: top;\n",
              "    }\n",
              "\n",
              "    .dataframe thead th {\n",
              "        text-align: right;\n",
              "    }\n",
              "</style>\n",
              "<table border=\"1\" class=\"dataframe\">\n",
              "  <thead>\n",
              "    <tr style=\"text-align: right;\">\n",
              "      <th></th>\n",
              "      <th>A</th>\n",
              "      <th>B</th>\n",
              "      <th>C</th>\n",
              "      <th>D</th>\n",
              "      <th>E</th>\n",
              "      <th>F</th>\n",
              "      <th>G</th>\n",
              "    </tr>\n",
              "  </thead>\n",
              "  <tbody>\n",
              "    <tr>\n",
              "      <th>count</th>\n",
              "      <td>1500.000000</td>\n",
              "      <td>1500.00000</td>\n",
              "      <td>1500.000000</td>\n",
              "      <td>1500.000000</td>\n",
              "      <td>1500.000000</td>\n",
              "      <td>1500.000000</td>\n",
              "      <td>1500.000000</td>\n",
              "    </tr>\n",
              "    <tr>\n",
              "      <th>mean</th>\n",
              "      <td>-52.319333</td>\n",
              "      <td>-55.95800</td>\n",
              "      <td>-55.319333</td>\n",
              "      <td>-53.800667</td>\n",
              "      <td>-62.905333</td>\n",
              "      <td>-81.188000</td>\n",
              "      <td>-81.973333</td>\n",
              "    </tr>\n",
              "    <tr>\n",
              "      <th>std</th>\n",
              "      <td>11.672883</td>\n",
              "      <td>3.37834</td>\n",
              "      <td>5.132666</td>\n",
              "      <td>11.732435</td>\n",
              "      <td>9.127024</td>\n",
              "      <td>6.679002</td>\n",
              "      <td>6.676002</td>\n",
              "    </tr>\n",
              "    <tr>\n",
              "      <th>min</th>\n",
              "      <td>-74.000000</td>\n",
              "      <td>-74.00000</td>\n",
              "      <td>-73.000000</td>\n",
              "      <td>-77.000000</td>\n",
              "      <td>-89.000000</td>\n",
              "      <td>-97.000000</td>\n",
              "      <td>-98.000000</td>\n",
              "    </tr>\n",
              "    <tr>\n",
              "      <th>25%</th>\n",
              "      <td>-61.000000</td>\n",
              "      <td>-58.00000</td>\n",
              "      <td>-58.250000</td>\n",
              "      <td>-63.000000</td>\n",
              "      <td>-69.000000</td>\n",
              "      <td>-86.000000</td>\n",
              "      <td>-87.000000</td>\n",
              "    </tr>\n",
              "    <tr>\n",
              "      <th>50%</th>\n",
              "      <td>-55.000000</td>\n",
              "      <td>-56.00000</td>\n",
              "      <td>-55.000000</td>\n",
              "      <td>-56.000000</td>\n",
              "      <td>-64.000000</td>\n",
              "      <td>-82.000000</td>\n",
              "      <td>-83.000000</td>\n",
              "    </tr>\n",
              "    <tr>\n",
              "      <th>75%</th>\n",
              "      <td>-46.000000</td>\n",
              "      <td>-54.00000</td>\n",
              "      <td>-52.000000</td>\n",
              "      <td>-47.000000</td>\n",
              "      <td>-56.000000</td>\n",
              "      <td>-77.000000</td>\n",
              "      <td>-78.000000</td>\n",
              "    </tr>\n",
              "    <tr>\n",
              "      <th>max</th>\n",
              "      <td>-10.000000</td>\n",
              "      <td>-46.00000</td>\n",
              "      <td>-40.000000</td>\n",
              "      <td>-11.000000</td>\n",
              "      <td>-36.000000</td>\n",
              "      <td>-61.000000</td>\n",
              "      <td>-63.000000</td>\n",
              "    </tr>\n",
              "  </tbody>\n",
              "</table>\n",
              "</div>"
            ],
            "text/plain": [
              "                 A           B  ...            F            G\n",
              "count  1500.000000  1500.00000  ...  1500.000000  1500.000000\n",
              "mean    -52.319333   -55.95800  ...   -81.188000   -81.973333\n",
              "std      11.672883     3.37834  ...     6.679002     6.676002\n",
              "min     -74.000000   -74.00000  ...   -97.000000   -98.000000\n",
              "25%     -61.000000   -58.00000  ...   -86.000000   -87.000000\n",
              "50%     -55.000000   -56.00000  ...   -82.000000   -83.000000\n",
              "75%     -46.000000   -54.00000  ...   -77.000000   -78.000000\n",
              "max     -10.000000   -46.00000  ...   -61.000000   -63.000000\n",
              "\n",
              "[8 rows x 7 columns]"
            ]
          },
          "metadata": {
            "tags": []
          },
          "execution_count": 123
        }
      ]
    },
    {
      "cell_type": "markdown",
      "metadata": {
        "id": "YNwd6OU-Mwt8"
      },
      "source": [
        "Averiguamos los valores máximos y mínimos de todas las intensidades de los features, para columnas **A,B,C,D,E,F,G**"
      ]
    },
    {
      "cell_type": "code",
      "metadata": {
        "colab": {
          "base_uri": "https://localhost:8080/"
        },
        "id": "xSmkhnR3LiLN",
        "outputId": "c4e9f849-6151-4202-fa37-ad8706e0cd04"
      },
      "source": [
        "minimumIntensity = np.min(data_frame.drop(['ROOM'], axis=1).min())\n",
        "print(\"minimumIntensity\",minimumIntensity)\n",
        "maximumIntensity = np.max(data_frame.drop(['ROOM'], axis=1).max())\n",
        "print(\"maximumIntensity\",maximumIntensity)"
      ],
      "execution_count": 124,
      "outputs": [
        {
          "output_type": "stream",
          "text": [
            "minimumIntensity -98\n",
            "maximumIntensity -10\n"
          ],
          "name": "stdout"
        }
      ]
    },
    {
      "cell_type": "markdown",
      "metadata": {
        "id": "BuLgS_blzuqw"
      },
      "source": [
        "Histogramas de todos los Attributes (Features) "
      ]
    },
    {
      "cell_type": "code",
      "metadata": {
        "colab": {
          "base_uri": "https://localhost:8080/",
          "height": 1000
        },
        "id": "y9EUvmACzCV1",
        "outputId": "34db8914-0892-4644-d69e-3356222a1fab"
      },
      "source": [
        "data_frame.hist(figsize = (15,15))"
      ],
      "execution_count": 125,
      "outputs": [
        {
          "output_type": "execute_result",
          "data": {
            "text/plain": [
              "array([[<matplotlib.axes._subplots.AxesSubplot object at 0x7f8fdc94ba90>,\n",
              "        <matplotlib.axes._subplots.AxesSubplot object at 0x7f8fdc94c890>,\n",
              "        <matplotlib.axes._subplots.AxesSubplot object at 0x7f8fdc9901d0>],\n",
              "       [<matplotlib.axes._subplots.AxesSubplot object at 0x7f8fdcaef210>,\n",
              "        <matplotlib.axes._subplots.AxesSubplot object at 0x7f8fdc9de790>,\n",
              "        <matplotlib.axes._subplots.AxesSubplot object at 0x7f8fdcbbe250>],\n",
              "       [<matplotlib.axes._subplots.AxesSubplot object at 0x7f8fdcb332d0>,\n",
              "        <matplotlib.axes._subplots.AxesSubplot object at 0x7f8fdcb63850>,\n",
              "        <matplotlib.axes._subplots.AxesSubplot object at 0x7f8fdca57350>]],\n",
              "      dtype=object)"
            ]
          },
          "metadata": {
            "tags": []
          },
          "execution_count": 125
        },
        {
          "output_type": "display_data",
          "data": {
            "image/png": "[encoded data removed]",
            "text/plain": [
              "<Figure size 1080x1080 with 9 Axes>"
            ]
          },
          "metadata": {
            "tags": [],
            "needs_background": "light"
          }
        }
      ]
    },
    {
      "cell_type": "markdown",
      "metadata": {
        "id": "7IMVt0u3F8xZ"
      },
      "source": [
        "Histogramas de los features traslapados, separado por cada ROOM. Es interesante observar que cada Room tiene features prevalentes los cuales evidencian pistas de cómo se podría clasificar los Rooms. "
      ]
    },
    {
      "cell_type": "code",
      "metadata": {
        "id": "uHPMxuEWBA2i",
        "colab": {
          "base_uri": "https://localhost:8080/",
          "height": 1000
        },
        "outputId": "5b1f0702-2eaa-4b36-a590-3cdeb0408585"
      },
      "source": [
        "subset1 = data_frame[data_frame[\"ROOM\"]==\"1\"]\n",
        "subset1Features = subset1.drop(['ROOM'], axis=1)\n",
        "\n",
        "subset2 = data_frame[data_frame[\"ROOM\"]==\"2\"]\n",
        "subset2Features = subset2.drop(['ROOM'], axis=1)\n",
        "\n",
        "subset3 = data_frame[data_frame[\"ROOM\"]==\"3\"]\n",
        "subset3Features = subset3.drop(['ROOM'], axis=1)\n",
        "\n",
        "subset4 = data_frame[data_frame[\"ROOM\"]==\"4\"]\n",
        "subset4Features = subset4.drop(['ROOM'], axis=1)\n",
        "\n",
        "subset1Features.plot.hist(alpha = 0.5, title = \"ROOM 1\")\n",
        "subset2Features.plot.hist(alpha = 0.5, title = \"ROOM 2\")\n",
        "subset3Features.plot.hist(alpha = 0.5, title = \"ROOM 3\")\n",
        "subset4Features.plot.hist(alpha = 0.5, title = \"ROOM 4\")\n",
        "\n",
        "\n",
        "\n",
        "\n"
      ],
      "execution_count": 126,
      "outputs": [
        {
          "output_type": "execute_result",
          "data": {
            "text/plain": [
              "<matplotlib.axes._subplots.AxesSubplot at 0x7f8fdb66e8d0>"
            ]
          },
          "metadata": {
            "tags": []
          },
          "execution_count": 126
        },
        {
          "output_type": "display_data",
          "data": {
            "image/png": "[encoded data removed]",
            "text/plain": [
              "<Figure size 432x288 with 1 Axes>"
            ]
          },
          "metadata": {
            "tags": [],
            "needs_background": "light"
          }
        },
        {
          "output_type": "display_data",
          "data": {
            "image/png": "[encoded data removed]",
            "text/plain": [
              "<Figure size 432x288 with 1 Axes>"
            ]
          },
          "metadata": {
            "tags": [],
            "needs_background": "light"
          }
        },
        {
          "output_type": "display_data",
          "data": {
            "image/png": "[encoded data removed]",
            "text/plain": [
              "<Figure size 432x288 with 1 Axes>"
            ]
          },
          "metadata": {
            "tags": [],
            "needs_background": "light"
          }
        },
        {
          "output_type": "display_data",
          "data": {
            "image/png": "[encoded data removed]",
            "text/plain": [
              "<Figure size 432x288 with 1 Axes>"
            ]
          },
          "metadata": {
            "tags": [],
            "needs_background": "light"
          }
        }
      ]
    },
    {
      "cell_type": "markdown",
      "metadata": {
        "id": "TTaXmXIgGLPx"
      },
      "source": [
        "# Preprocesamiento"
      ]
    },
    {
      "cell_type": "markdown",
      "metadata": {
        "id": "i4VStFEDY-wo"
      },
      "source": [
        "Nota* Algunos algoritmos de la libre SKLEARN, si aceptan el dataset en formato One-Hot-Encoding para la clase ROOM. Otros algoritmos aceptan la clase ROOM sin el pre-procesado de One-Hot-Encoding. Por lo que un par de lineas adelante, volvemos a hacer el preprocesado del dataset."
      ]
    },
    {
      "cell_type": "code",
      "metadata": {
        "id": "ZWS7eg82EKtv"
      },
      "source": [
        "# One Hot Encoding de Etiqueta: ROOM\n",
        "from numpy import asarray\n",
        "from sklearn.preprocessing import OneHotEncoder\n",
        "Dataset = data_frame\n",
        "featuresX = Dataset.drop([\"ROOM\"], axis=1)\n",
        "labelsY = Dataset[\"ROOM\"]\n",
        "\n",
        "encoder = OneHotEncoder(sparse=False)\n",
        "intermedio = labelsY.to_numpy()\n",
        "\n",
        "onehotlabelsY = encoder.fit_transform(intermedio.reshape(-1,1))\n",
        "onehotlabelsY = onehotlabelsY.astype(np.uint8)#Cambiar formato de las etiquetas\n",
        "\n",
        "X_train, X_test, y_train, y_test = train_test_split(featuresX, onehotlabelsY, test_size=0.2, random_state=17)\n"
      ],
      "execution_count": 127,
      "outputs": []
    },
    {
      "cell_type": "markdown",
      "metadata": {
        "id": "LiDo4I52h4Oe"
      },
      "source": [
        "# kNN - k Nearest Neighbors"
      ]
    },
    {
      "cell_type": "markdown",
      "metadata": {
        "id": "DAoqP1yAjsV5"
      },
      "source": [
        "Inicializar listas"
      ]
    },
    {
      "cell_type": "code",
      "metadata": {
        "id": "wJ2ZF8GMjutn"
      },
      "source": [
        "training_accuracy = []\n",
        "test_accuracy = []\n",
        "iteration = []"
      ],
      "execution_count": 128,
      "outputs": []
    },
    {
      "cell_type": "markdown",
      "metadata": {
        "id": "B-x7JUP6pEFy"
      },
      "source": [
        "Con el objetivo de optimizar el modelo, vamos a iterar el entrenamiento del modelo, basado en la cantidad de Neighbors. "
      ]
    },
    {
      "cell_type": "code",
      "metadata": {
        "colab": {
          "base_uri": "https://localhost:8080/",
          "height": 298
        },
        "id": "NjZQEpstjyiy",
        "outputId": "d0b64e4c-58bc-4ed9-ea70-f8219ea24e5a"
      },
      "source": [
        "import matplotlib.pyplot as plt\n",
        "%matplotlib inline\n",
        "\n",
        "neighbors_settings = range(1, 10)# Rango de neighbors a probar\n",
        "for n_neighbors in neighbors_settings:\n",
        "    # se construye el modelo de clasificacion\n",
        "    clf = KNeighborsClassifier(n_neighbors=n_neighbors)\n",
        "    clf.fit(X_train, y_train)\n",
        "    # se almacena el \"training set accuracy\"\n",
        "    training_accuracy.append(clf.score(X_train, y_train))\n",
        "    # se almacena la \"generalization accuracy\"\n",
        "    test_accuracy.append(clf.score(X_test, y_test))\n",
        "    iteration.append(n_neighbors)\n",
        "plt.plot(neighbors_settings, training_accuracy, label=\"training accuracy\")\n",
        "plt.plot(neighbors_settings, test_accuracy, label=\"test accuracy\")\n",
        "plt.ylabel(\"Accuracy\")\n",
        "plt.xlabel(\"n_neighbors\")\n",
        "plt.legend()"
      ],
      "execution_count": 129,
      "outputs": [
        {
          "output_type": "execute_result",
          "data": {
            "text/plain": [
              "<matplotlib.legend.Legend at 0x7f8fdc98eb10>"
            ]
          },
          "metadata": {
            "tags": []
          },
          "execution_count": 129
        },
        {
          "output_type": "display_data",
          "data": {
            "image/png": "[encoded data removed]",
            "text/plain": [
              "<Figure size 432x288 with 1 Axes>"
            ]
          },
          "metadata": {
            "tags": [],
            "needs_background": "light"
          }
        }
      ]
    },
    {
      "cell_type": "code",
      "metadata": {
        "colab": {
          "base_uri": "https://localhost:8080/"
        },
        "id": "AahNcKPSkPdK",
        "outputId": "ec8fe4ec-5d0d-41d8-df3d-76570f896b09"
      },
      "source": [
        "print(\"training_accuracy\",training_accuracy)\n",
        "print(\"test_accuracy\",test_accuracy)\n",
        "print(\"iteration\",iteration)"
      ],
      "execution_count": 130,
      "outputs": [
        {
          "output_type": "stream",
          "text": [
            "training_accuracy [1.0, 0.9825, 0.99, 0.9833333333333333, 0.9875, 0.98, 0.985, 0.98, 0.9816666666666667]\n",
            "test_accuracy [0.97, 0.9566666666666667, 0.97, 0.9633333333333334, 0.9666666666666667, 0.96, 0.9666666666666667, 0.9633333333333334, 0.9633333333333334]\n",
            "iteration [1, 2, 3, 4, 5, 6, 7, 8, 9]\n"
          ],
          "name": "stdout"
        }
      ]
    },
    {
      "cell_type": "markdown",
      "metadata": {
        "id": "zVTDo3Jlmm1T"
      },
      "source": [
        "Se observa que un buen escenario de clasificación es cuando n_neighbors=3, ya que ambos Train/Test accuracy son altos, además que es el escenario donde Train Accuracy (0.99) se acerca lo mayor posible a Test Accuracy (0.97).\n",
        "\n",
        "A continuación se muestra varias predicciones, teniendo como input X_test\n"
      ]
    },
    {
      "cell_type": "code",
      "metadata": {
        "colab": {
          "base_uri": "https://localhost:8080/",
          "height": 380
        },
        "id": "7ZZc-p03mmXb",
        "outputId": "115783e2-12ca-4e46-fe32-149ac1f7cde1"
      },
      "source": [
        "clf = KNeighborsClassifier(n_neighbors=3)\n",
        "clf.fit(X_train, y_train)\n",
        "print(\"Compare Results\")\n",
        "y_test_predicted = clf.predict(X_test)\n",
        "compare = pd.DataFrame(data = np.concatenate((y_test,y_test_predicted),axis=1),columns=['R1_Test','R2_Test','R3_Test','R4_Test','R1_Test_Predict','R2_Test_Predict','R3_Test_Predict','R4_Test_Predict'])\n",
        "compare.head(10)"
      ],
      "execution_count": 131,
      "outputs": [
        {
          "output_type": "stream",
          "text": [
            "Compare Results\n"
          ],
          "name": "stdout"
        },
        {
          "output_type": "execute_result",
          "data": {
            "text/html": [
              "<div>\n",
              "<style scoped>\n",
              "    .dataframe tbody tr th:only-of-type {\n",
              "        vertical-align: middle;\n",
              "    }\n",
              "\n",
              "    .dataframe tbody tr th {\n",
              "        vertical-align: top;\n",
              "    }\n",
              "\n",
              "    .dataframe thead th {\n",
              "        text-align: right;\n",
              "    }\n",
              "</style>\n",
              "<table border=\"1\" class=\"dataframe\">\n",
              "  <thead>\n",
              "    <tr style=\"text-align: right;\">\n",
              "      <th></th>\n",
              "      <th>R1_Test</th>\n",
              "      <th>R2_Test</th>\n",
              "      <th>R3_Test</th>\n",
              "      <th>R4_Test</th>\n",
              "      <th>R1_Test_Predict</th>\n",
              "      <th>R2_Test_Predict</th>\n",
              "      <th>R3_Test_Predict</th>\n",
              "      <th>R4_Test_Predict</th>\n",
              "    </tr>\n",
              "  </thead>\n",
              "  <tbody>\n",
              "    <tr>\n",
              "      <th>0</th>\n",
              "      <td>0</td>\n",
              "      <td>0</td>\n",
              "      <td>0</td>\n",
              "      <td>1</td>\n",
              "      <td>0</td>\n",
              "      <td>0</td>\n",
              "      <td>0</td>\n",
              "      <td>1</td>\n",
              "    </tr>\n",
              "    <tr>\n",
              "      <th>1</th>\n",
              "      <td>0</td>\n",
              "      <td>1</td>\n",
              "      <td>0</td>\n",
              "      <td>0</td>\n",
              "      <td>0</td>\n",
              "      <td>1</td>\n",
              "      <td>0</td>\n",
              "      <td>0</td>\n",
              "    </tr>\n",
              "    <tr>\n",
              "      <th>2</th>\n",
              "      <td>1</td>\n",
              "      <td>0</td>\n",
              "      <td>0</td>\n",
              "      <td>0</td>\n",
              "      <td>1</td>\n",
              "      <td>0</td>\n",
              "      <td>0</td>\n",
              "      <td>0</td>\n",
              "    </tr>\n",
              "    <tr>\n",
              "      <th>3</th>\n",
              "      <td>0</td>\n",
              "      <td>0</td>\n",
              "      <td>0</td>\n",
              "      <td>1</td>\n",
              "      <td>0</td>\n",
              "      <td>0</td>\n",
              "      <td>0</td>\n",
              "      <td>1</td>\n",
              "    </tr>\n",
              "    <tr>\n",
              "      <th>4</th>\n",
              "      <td>0</td>\n",
              "      <td>0</td>\n",
              "      <td>0</td>\n",
              "      <td>1</td>\n",
              "      <td>0</td>\n",
              "      <td>0</td>\n",
              "      <td>0</td>\n",
              "      <td>1</td>\n",
              "    </tr>\n",
              "    <tr>\n",
              "      <th>5</th>\n",
              "      <td>0</td>\n",
              "      <td>0</td>\n",
              "      <td>0</td>\n",
              "      <td>1</td>\n",
              "      <td>0</td>\n",
              "      <td>0</td>\n",
              "      <td>0</td>\n",
              "      <td>1</td>\n",
              "    </tr>\n",
              "    <tr>\n",
              "      <th>6</th>\n",
              "      <td>0</td>\n",
              "      <td>0</td>\n",
              "      <td>0</td>\n",
              "      <td>1</td>\n",
              "      <td>0</td>\n",
              "      <td>0</td>\n",
              "      <td>0</td>\n",
              "      <td>1</td>\n",
              "    </tr>\n",
              "    <tr>\n",
              "      <th>7</th>\n",
              "      <td>1</td>\n",
              "      <td>0</td>\n",
              "      <td>0</td>\n",
              "      <td>0</td>\n",
              "      <td>1</td>\n",
              "      <td>0</td>\n",
              "      <td>0</td>\n",
              "      <td>0</td>\n",
              "    </tr>\n",
              "    <tr>\n",
              "      <th>8</th>\n",
              "      <td>0</td>\n",
              "      <td>1</td>\n",
              "      <td>0</td>\n",
              "      <td>0</td>\n",
              "      <td>0</td>\n",
              "      <td>1</td>\n",
              "      <td>0</td>\n",
              "      <td>0</td>\n",
              "    </tr>\n",
              "    <tr>\n",
              "      <th>9</th>\n",
              "      <td>0</td>\n",
              "      <td>0</td>\n",
              "      <td>1</td>\n",
              "      <td>0</td>\n",
              "      <td>0</td>\n",
              "      <td>0</td>\n",
              "      <td>1</td>\n",
              "      <td>0</td>\n",
              "    </tr>\n",
              "  </tbody>\n",
              "</table>\n",
              "</div>"
            ],
            "text/plain": [
              "   R1_Test  R2_Test  R3_Test  ...  R2_Test_Predict  R3_Test_Predict  R4_Test_Predict\n",
              "0        0        0        0  ...                0                0                1\n",
              "1        0        1        0  ...                1                0                0\n",
              "2        1        0        0  ...                0                0                0\n",
              "3        0        0        0  ...                0                0                1\n",
              "4        0        0        0  ...                0                0                1\n",
              "5        0        0        0  ...                0                0                1\n",
              "6        0        0        0  ...                0                0                1\n",
              "7        1        0        0  ...                0                0                0\n",
              "8        0        1        0  ...                1                0                0\n",
              "9        0        0        1  ...                0                1                0\n",
              "\n",
              "[10 rows x 8 columns]"
            ]
          },
          "metadata": {
            "tags": []
          },
          "execution_count": 131
        }
      ]
    },
    {
      "cell_type": "markdown",
      "metadata": {
        "id": "S9DVx8SfMGJX"
      },
      "source": [
        "# Decision Trees"
      ]
    },
    {
      "cell_type": "markdown",
      "metadata": {
        "id": "XAbwtPnX5r75"
      },
      "source": [
        "Inicializar listas"
      ]
    },
    {
      "cell_type": "code",
      "metadata": {
        "id": "xfHGW3rSMFhg"
      },
      "source": [
        "training_accuracy = []\n",
        "test_accuracy = []\n",
        "iteration = []"
      ],
      "execution_count": 132,
      "outputs": []
    },
    {
      "cell_type": "markdown",
      "metadata": {
        "id": "PemNJnDnpZBj"
      },
      "source": [
        "Con el objetivo de optimizar el modelo, vamos a iterar el entrenamiento del modelo, basado en la profundidad del arbol. "
      ]
    },
    {
      "cell_type": "code",
      "metadata": {
        "colab": {
          "base_uri": "https://localhost:8080/",
          "height": 461
        },
        "id": "mVrzuzREGrX4",
        "outputId": "0842457a-8dea-41af-e0a4-455fbde1bccb"
      },
      "source": [
        "from sklearn import tree\n",
        "profundidad_settings = range(1, 10)#Probamos distintos niveles del arbol de decision\n",
        "for profundidadMaxima in profundidad_settings:\n",
        "    # se construye el modelo de clasificacion\n",
        "    clf = tree.DecisionTreeClassifier(criterion=\"entropy\", max_depth=profundidadMaxima)\n",
        "    clf = clf.fit(X_train, y_train)\n",
        "    # se almacena el \"training set accuracy\"\n",
        "    training_accuracy.append(clf.score(X_train, y_train))\n",
        "    # se almacena la \"generalization accuracy\"\n",
        "    test_accuracy.append(clf.score(X_test, y_test))\n",
        "    iteration.append(profundidadMaxima)\n",
        "\n",
        "print(\"training_accuracy, test_accuracy\",np.concatenate((np.expand_dims(training_accuracy,1),np.expand_dims(test_accuracy,1)),axis=1))\n",
        "plt.plot(profundidad_settings, training_accuracy, label=\"training accuracy\")\n",
        "plt.plot(profundidad_settings, test_accuracy, label=\"test accuracy\")\n",
        "plt.ylabel(\"Accuracy\")\n",
        "plt.xlabel(\"profundidadMaxima\")\n",
        "plt.legend()"
      ],
      "execution_count": 133,
      "outputs": [
        {
          "output_type": "stream",
          "text": [
            "training_accuracy, test_accuracy [[0.505      0.47333333]\n",
            " [0.95166667 0.92666667]\n",
            " [0.97       0.94      ]\n",
            " [0.9775     0.94      ]\n",
            " [0.98916667 0.94666667]\n",
            " [0.9875     0.93666667]\n",
            " [0.995      0.95333333]\n",
            " [0.9975     0.94666667]\n",
            " [0.99916667 0.95666667]]\n"
          ],
          "name": "stdout"
        },
        {
          "output_type": "execute_result",
          "data": {
            "text/plain": [
              "<matplotlib.legend.Legend at 0x7f8fdb713c10>"
            ]
          },
          "metadata": {
            "tags": []
          },
          "execution_count": 133
        },
        {
          "output_type": "display_data",
          "data": {
            "image/png": "[encoded data removed]",
            "text/plain": [
              "<Figure size 432x288 with 1 Axes>"
            ]
          },
          "metadata": {
            "tags": [],
            "needs_background": "light"
          }
        }
      ]
    },
    {
      "cell_type": "markdown",
      "metadata": {
        "id": "rjpRv5MfKwd6"
      },
      "source": [
        "Observando los valores de accuracy y optimizando el consumo computacional, elegimos profundidadMaxima = 5, con un training_accuracy= 0.98916667  test_accuracy = 0.94666667. \n",
        "\n",
        "Además mostramos visualmente la estructura el árbol de decisión. "
      ]
    },
    {
      "cell_type": "code",
      "metadata": {
        "colab": {
          "base_uri": "https://localhost:8080/",
          "height": 591
        },
        "id": "Lf4kf5b27mC-",
        "outputId": "5a872a4f-b927-42b2-b24c-29eaa8883ccf"
      },
      "source": [
        "from sklearn import tree\n",
        "\n",
        "profundidadMaxima = 5\n",
        "clf = tree.DecisionTreeClassifier(criterion=\"entropy\", max_depth=profundidadMaxima)\n",
        "clf = clf.fit(X_train, y_train)\n",
        "\n",
        "plt.figure(figsize=(15,10))  \n",
        "tree.plot_tree(clf,fontsize=7)\n",
        "y_test_predicted = clf.predict(X_test)\n",
        "plt.title(\"Decision Tree Structure\")\n",
        "plt.show()\n",
        "\n",
        "\n"
      ],
      "execution_count": 134,
      "outputs": [
        {
          "output_type": "display_data",
          "data": {
            "image/png": "[encoded data removed]",
            "text/plain": [
              "<Figure size 1080x720 with 1 Axes>"
            ]
          },
          "metadata": {
            "tags": [],
            "needs_background": "light"
          }
        }
      ]
    },
    {
      "cell_type": "markdown",
      "metadata": {
        "id": "j3Gb6fb1p2UA"
      },
      "source": [
        "A continuación se muestra varias predicciones, teniendo como input X_test"
      ]
    },
    {
      "cell_type": "code",
      "metadata": {
        "colab": {
          "base_uri": "https://localhost:8080/",
          "height": 362
        },
        "id": "XW1oONHIpw7e",
        "outputId": "66ff0424-dc3a-4761-d4e8-67a8039a9cbf"
      },
      "source": [
        "\n",
        "compare = pd.DataFrame(data = np.concatenate((y_test,y_test_predicted),axis=1),columns=['R1_Test','R2_Test','R3_Test','R4_Test','R1_Test_Predict','R2_Test_Predict','R3_Test_Predict','R4_Test_Predict'])\n",
        "compare.head(10)"
      ],
      "execution_count": 135,
      "outputs": [
        {
          "output_type": "execute_result",
          "data": {
            "text/html": [
              "<div>\n",
              "<style scoped>\n",
              "    .dataframe tbody tr th:only-of-type {\n",
              "        vertical-align: middle;\n",
              "    }\n",
              "\n",
              "    .dataframe tbody tr th {\n",
              "        vertical-align: top;\n",
              "    }\n",
              "\n",
              "    .dataframe thead th {\n",
              "        text-align: right;\n",
              "    }\n",
              "</style>\n",
              "<table border=\"1\" class=\"dataframe\">\n",
              "  <thead>\n",
              "    <tr style=\"text-align: right;\">\n",
              "      <th></th>\n",
              "      <th>R1_Test</th>\n",
              "      <th>R2_Test</th>\n",
              "      <th>R3_Test</th>\n",
              "      <th>R4_Test</th>\n",
              "      <th>R1_Test_Predict</th>\n",
              "      <th>R2_Test_Predict</th>\n",
              "      <th>R3_Test_Predict</th>\n",
              "      <th>R4_Test_Predict</th>\n",
              "    </tr>\n",
              "  </thead>\n",
              "  <tbody>\n",
              "    <tr>\n",
              "      <th>0</th>\n",
              "      <td>0</td>\n",
              "      <td>0</td>\n",
              "      <td>0</td>\n",
              "      <td>1</td>\n",
              "      <td>0</td>\n",
              "      <td>0</td>\n",
              "      <td>0</td>\n",
              "      <td>1</td>\n",
              "    </tr>\n",
              "    <tr>\n",
              "      <th>1</th>\n",
              "      <td>0</td>\n",
              "      <td>1</td>\n",
              "      <td>0</td>\n",
              "      <td>0</td>\n",
              "      <td>0</td>\n",
              "      <td>1</td>\n",
              "      <td>0</td>\n",
              "      <td>0</td>\n",
              "    </tr>\n",
              "    <tr>\n",
              "      <th>2</th>\n",
              "      <td>1</td>\n",
              "      <td>0</td>\n",
              "      <td>0</td>\n",
              "      <td>0</td>\n",
              "      <td>1</td>\n",
              "      <td>0</td>\n",
              "      <td>0</td>\n",
              "      <td>0</td>\n",
              "    </tr>\n",
              "    <tr>\n",
              "      <th>3</th>\n",
              "      <td>0</td>\n",
              "      <td>0</td>\n",
              "      <td>0</td>\n",
              "      <td>1</td>\n",
              "      <td>0</td>\n",
              "      <td>0</td>\n",
              "      <td>0</td>\n",
              "      <td>1</td>\n",
              "    </tr>\n",
              "    <tr>\n",
              "      <th>4</th>\n",
              "      <td>0</td>\n",
              "      <td>0</td>\n",
              "      <td>0</td>\n",
              "      <td>1</td>\n",
              "      <td>0</td>\n",
              "      <td>0</td>\n",
              "      <td>0</td>\n",
              "      <td>1</td>\n",
              "    </tr>\n",
              "    <tr>\n",
              "      <th>5</th>\n",
              "      <td>0</td>\n",
              "      <td>0</td>\n",
              "      <td>0</td>\n",
              "      <td>1</td>\n",
              "      <td>0</td>\n",
              "      <td>0</td>\n",
              "      <td>0</td>\n",
              "      <td>1</td>\n",
              "    </tr>\n",
              "    <tr>\n",
              "      <th>6</th>\n",
              "      <td>0</td>\n",
              "      <td>0</td>\n",
              "      <td>0</td>\n",
              "      <td>1</td>\n",
              "      <td>0</td>\n",
              "      <td>0</td>\n",
              "      <td>0</td>\n",
              "      <td>1</td>\n",
              "    </tr>\n",
              "    <tr>\n",
              "      <th>7</th>\n",
              "      <td>1</td>\n",
              "      <td>0</td>\n",
              "      <td>0</td>\n",
              "      <td>0</td>\n",
              "      <td>1</td>\n",
              "      <td>0</td>\n",
              "      <td>0</td>\n",
              "      <td>0</td>\n",
              "    </tr>\n",
              "    <tr>\n",
              "      <th>8</th>\n",
              "      <td>0</td>\n",
              "      <td>1</td>\n",
              "      <td>0</td>\n",
              "      <td>0</td>\n",
              "      <td>0</td>\n",
              "      <td>0</td>\n",
              "      <td>1</td>\n",
              "      <td>0</td>\n",
              "    </tr>\n",
              "    <tr>\n",
              "      <th>9</th>\n",
              "      <td>0</td>\n",
              "      <td>0</td>\n",
              "      <td>1</td>\n",
              "      <td>0</td>\n",
              "      <td>0</td>\n",
              "      <td>0</td>\n",
              "      <td>1</td>\n",
              "      <td>0</td>\n",
              "    </tr>\n",
              "  </tbody>\n",
              "</table>\n",
              "</div>"
            ],
            "text/plain": [
              "   R1_Test  R2_Test  R3_Test  ...  R2_Test_Predict  R3_Test_Predict  R4_Test_Predict\n",
              "0        0        0        0  ...                0                0                1\n",
              "1        0        1        0  ...                1                0                0\n",
              "2        1        0        0  ...                0                0                0\n",
              "3        0        0        0  ...                0                0                1\n",
              "4        0        0        0  ...                0                0                1\n",
              "5        0        0        0  ...                0                0                1\n",
              "6        0        0        0  ...                0                0                1\n",
              "7        1        0        0  ...                0                0                0\n",
              "8        0        1        0  ...                0                1                0\n",
              "9        0        0        1  ...                0                1                0\n",
              "\n",
              "[10 rows x 8 columns]"
            ]
          },
          "metadata": {
            "tags": []
          },
          "execution_count": 135
        }
      ]
    },
    {
      "cell_type": "markdown",
      "metadata": {
        "id": "_5xXYmf6REc7"
      },
      "source": [
        "# Preprocesamiento para Logistic Regression"
      ]
    },
    {
      "cell_type": "code",
      "metadata": {
        "id": "93hfibvEhGQ2"
      },
      "source": [
        "# El algoritmo no necesita One Hot Encoding\n",
        "from numpy import asarray\n",
        "Dataset = data_frame\n",
        "featuresX = Dataset.drop([\"ROOM\"], axis=1).to_numpy()\n",
        "labelsY = Dataset[\"ROOM\"].to_numpy()\n",
        "\n",
        "\n",
        "X_train, X_test, y_train, y_test = train_test_split(featuresX, labelsY, test_size=0.2, random_state=17)"
      ],
      "execution_count": 136,
      "outputs": []
    },
    {
      "cell_type": "markdown",
      "metadata": {
        "id": "g2KNcb96hsKi"
      },
      "source": [
        "# Logistic Regression Multiclass"
      ]
    },
    {
      "cell_type": "markdown",
      "metadata": {
        "id": "3OgSL61xqZiX"
      },
      "source": [
        "Iniciamos listas"
      ]
    },
    {
      "cell_type": "code",
      "metadata": {
        "id": "ABrT_oc6RJOn"
      },
      "source": [
        "training_accuracy = []\n",
        "test_accuracy = []\n",
        "iteration = []"
      ],
      "execution_count": 137,
      "outputs": []
    },
    {
      "cell_type": "markdown",
      "metadata": {
        "id": "cYZje-9dqcN-"
      },
      "source": [
        "Entrenamos el modelo "
      ]
    },
    {
      "cell_type": "code",
      "metadata": {
        "colab": {
          "base_uri": "https://localhost:8080/"
        },
        "id": "b9P-t4sXhcna",
        "outputId": "3cdb1f45-a9fc-40b1-c1f7-536b3899499b"
      },
      "source": [
        "from sklearn.linear_model import LogisticRegression\n",
        "clf = LogisticRegression(random_state=0, solver = \"newton-cg\")# Multiclass hyperparameter solver = \"newton-cg\"\n",
        "clf.fit(X_train, y_train)\n",
        "\n",
        "print(\"Accuracy Train\", clf.score(X_train, y_train))\n",
        "print(\"Accuracy Test\", clf.score(X_test, y_test))\n",
        "y_test_predicted = clf.predict(X_test)\n",
        "\n",
        "\n",
        "\n"
      ],
      "execution_count": 138,
      "outputs": [
        {
          "output_type": "stream",
          "text": [
            "Accuracy Train 0.9875\n",
            "Accuracy Test 0.9766666666666667\n"
          ],
          "name": "stdout"
        }
      ]
    },
    {
      "cell_type": "markdown",
      "metadata": {
        "id": "xrq9KLGkxI4X"
      },
      "source": [
        "A continuación se muestra varias predicciones, teniendo como input X_test"
      ]
    },
    {
      "cell_type": "code",
      "metadata": {
        "colab": {
          "base_uri": "https://localhost:8080/",
          "height": 362
        },
        "id": "YVQdvgz-wmFo",
        "outputId": "faabec2e-3b6c-47f4-8d5d-a09c4bfc43f2"
      },
      "source": [
        "y_test = pd.DataFrame(y_test)\n",
        "y_test_predicted = pd.DataFrame(y_test_predicted)\n",
        "compare = pd.DataFrame(data = np.concatenate((y_test,y_test_predicted),axis=1),columns=['Room y_test','Room y_test_predicted'])\n",
        "compare.head(10)"
      ],
      "execution_count": 139,
      "outputs": [
        {
          "output_type": "execute_result",
          "data": {
            "text/html": [
              "<div>\n",
              "<style scoped>\n",
              "    .dataframe tbody tr th:only-of-type {\n",
              "        vertical-align: middle;\n",
              "    }\n",
              "\n",
              "    .dataframe tbody tr th {\n",
              "        vertical-align: top;\n",
              "    }\n",
              "\n",
              "    .dataframe thead th {\n",
              "        text-align: right;\n",
              "    }\n",
              "</style>\n",
              "<table border=\"1\" class=\"dataframe\">\n",
              "  <thead>\n",
              "    <tr style=\"text-align: right;\">\n",
              "      <th></th>\n",
              "      <th>Room y_test</th>\n",
              "      <th>Room y_test_predicted</th>\n",
              "    </tr>\n",
              "  </thead>\n",
              "  <tbody>\n",
              "    <tr>\n",
              "      <th>0</th>\n",
              "      <td>4</td>\n",
              "      <td>4</td>\n",
              "    </tr>\n",
              "    <tr>\n",
              "      <th>1</th>\n",
              "      <td>2</td>\n",
              "      <td>2</td>\n",
              "    </tr>\n",
              "    <tr>\n",
              "      <th>2</th>\n",
              "      <td>1</td>\n",
              "      <td>1</td>\n",
              "    </tr>\n",
              "    <tr>\n",
              "      <th>3</th>\n",
              "      <td>4</td>\n",
              "      <td>4</td>\n",
              "    </tr>\n",
              "    <tr>\n",
              "      <th>4</th>\n",
              "      <td>4</td>\n",
              "      <td>4</td>\n",
              "    </tr>\n",
              "    <tr>\n",
              "      <th>5</th>\n",
              "      <td>4</td>\n",
              "      <td>4</td>\n",
              "    </tr>\n",
              "    <tr>\n",
              "      <th>6</th>\n",
              "      <td>4</td>\n",
              "      <td>4</td>\n",
              "    </tr>\n",
              "    <tr>\n",
              "      <th>7</th>\n",
              "      <td>1</td>\n",
              "      <td>1</td>\n",
              "    </tr>\n",
              "    <tr>\n",
              "      <th>8</th>\n",
              "      <td>2</td>\n",
              "      <td>3</td>\n",
              "    </tr>\n",
              "    <tr>\n",
              "      <th>9</th>\n",
              "      <td>3</td>\n",
              "      <td>3</td>\n",
              "    </tr>\n",
              "  </tbody>\n",
              "</table>\n",
              "</div>"
            ],
            "text/plain": [
              "  Room y_test Room y_test_predicted\n",
              "0           4                     4\n",
              "1           2                     2\n",
              "2           1                     1\n",
              "3           4                     4\n",
              "4           4                     4\n",
              "5           4                     4\n",
              "6           4                     4\n",
              "7           1                     1\n",
              "8           2                     3\n",
              "9           3                     3"
            ]
          },
          "metadata": {
            "tags": []
          },
          "execution_count": 139
        }
      ]
    },
    {
      "cell_type": "markdown",
      "metadata": {
        "id": "vbynijIryVTM"
      },
      "source": [
        "# Metodos de ensamble (Ensemble learning)\n",
        "\n",
        "**• Explique en que consisten los metodos de ensamble y cuales son sus principales caracterısticas.**\n",
        "\n",
        "Los métodos de ensamble ayudan a mejorar los resultados del aprendizaje automático mediante la combinación de varios modelos base. Este enfoque permite la producción de un mejor rendimiento predictivo en comparación con un solo modelo. \n",
        "\n",
        "Los métodos de conjunto son algoritmos que combinan varias técnicas de aprendizaje automático en un modelo predictivo para disminuir la varianza (bagging), el sesgo (boosting) o mejorar las predicciones (stacking).\n",
        "\n",
        "Los métodos de conjunto se pueden dividir en dos grupos:\n",
        "\n",
        "->**Métodos de conjunto secuencial** donde los algoritmos base se generan secuencialmente. La motivación básica de los métodos secuenciales es explotar la dependencia entre los algoritmos de base.\n",
        "\n",
        "->**Métodos de conjuntos paralelos** donde los algoritmos base se generan en paralelo. La motivación básica de los métodos paralelos es aprovechar la independencia entre los algoritmos de base, ya que el error se puede reducir drásticamente promediando.\n",
        "\n",
        "La mayoría de los métodos de conjunto utilizan un algoritmo de aprendizaje de base única para producir algoritmos de base **homogéneos**, es decir, algoritmos del mismo tipo, que conducen a conjuntos homogéneos. También hay algunos métodos que utilizan algoritmos **heterogéneos**, es decir, algoritmos de diferentes tipos, lo que conduce a conjuntos heterogéneos. \n",
        "\n",
        "\n",
        "-> Tomado de: https://blog.statsbot.co/ensemble-learning-d1dcd548e936\n",
        "\n",
        "\n",
        "\n"
      ]
    },
    {
      "cell_type": "markdown",
      "metadata": {
        "id": "j_zIQEG8WrNe"
      },
      "source": [
        "\n",
        "**• Ejecutar el mismo analisis anterior pero esta vez para un metodo de ensamble que no se haya visto en clase.**\n",
        "\n",
        "Utilizaremos el algoritmo de ensamble llamado GradientBoosting. \n",
        "\n",
        "Descripción breve tomada de https://scikit-learn.org/stable/modules/generated/sklearn.ensemble.GradientBoostingClassifier.html:\n",
        "\n",
        "\n",
        "Gradient Boosting construye un modelo aditivo de manera progresiva por etapas; permite la optimización de funciones de pérdida diferenciables arbitrarias. En cada etapa, varios Regression Trees se ajustan al gradiente negativo de la función de pérdida de desviación binomial o multinomial.\n"
      ]
    },
    {
      "cell_type": "code",
      "metadata": {
        "id": "TTXI5gyE0OO9"
      },
      "source": [
        "training_accuracy = []\n",
        "test_accuracy = []\n",
        "iteration = []"
      ],
      "execution_count": 140,
      "outputs": []
    },
    {
      "cell_type": "code",
      "metadata": {
        "id": "Abp3ia6qzFxN"
      },
      "source": [
        "# El algoritmo no necesita One Hot Encoding\n",
        "from numpy import asarray\n",
        "Dataset = data_frame\n",
        "featuresX = Dataset.drop([\"ROOM\"], axis=1).to_numpy()\n",
        "labelsY = Dataset[\"ROOM\"].to_numpy()\n",
        "\n",
        "\n",
        "X_train, X_test, y_train, y_test = train_test_split(featuresX, labelsY, test_size=0.2, random_state=17)"
      ],
      "execution_count": 141,
      "outputs": []
    },
    {
      "cell_type": "code",
      "metadata": {
        "colab": {
          "base_uri": "https://localhost:8080/",
          "height": 297
        },
        "id": "-xlC6fzx0T82",
        "outputId": "01b68c68-5a24-4331-dd37-86cf0a7f5196"
      },
      "source": [
        "from sklearn.ensemble import GradientBoostingClassifier\n",
        "estimators_settings = range(1, 100)#Probamos distintos niveles del arbol de decision\n",
        "for qtyEstimadores in estimators_settings:\n",
        "    # se construye el modelo de clasificacion\n",
        "    clf = GradientBoostingClassifier(n_estimators=qtyEstimadores, learning_rate=0.1, max_depth=2, random_state=0)\n",
        "    clf = clf.fit(X_train, y_train)\n",
        "    # se almacena el \"training set accuracy\"\n",
        "    training_accuracy.append(clf.score(X_train, y_train))\n",
        "    # se almacena la \"generalization accuracy\"\n",
        "    test_accuracy.append(clf.score(X_test, y_test))    \n",
        "    iteration.append(qtyEstimadores)\n",
        "\n",
        "#print(\"training_accuracy, test_accuracy\",np.concatenate((np.expand_dims(training_accuracy,1),np.expand_dims(test_accuracy,1)),axis=1))\n",
        "plt.plot(estimators_settings, training_accuracy, label=\"training accuracy\")\n",
        "plt.plot(estimators_settings, test_accuracy, label=\"test accuracy\")\n",
        "plt.ylabel(\"Accuracy\")\n",
        "plt.xlabel(\"qtyEstimadores\")\n",
        "plt.legend()"
      ],
      "execution_count": 142,
      "outputs": [
        {
          "output_type": "execute_result",
          "data": {
            "text/plain": [
              "<matplotlib.legend.Legend at 0x7f8fdbd4a510>"
            ]
          },
          "metadata": {
            "tags": []
          },
          "execution_count": 142
        },
        {
          "output_type": "display_data",
          "data": {
            "image/png": "[encoded data removed]",
            "text/plain": [
              "<Figure size 432x288 with 1 Axes>"
            ]
          },
          "metadata": {
            "tags": [],
            "needs_background": "light"
          }
        }
      ]
    },
    {
      "cell_type": "markdown",
      "metadata": {
        "id": "5-0SF8BBFoJg"
      },
      "source": [
        "Se observa en la gráfica que para qtyEstimators = 40, obtenemos bueno valores de accuracy para Test (>.97) y Train (≈.99). Por lo que utilizaremos qtyEstimators = 40. "
      ]
    },
    {
      "cell_type": "code",
      "metadata": {
        "id": "DgJWELGAzSuP"
      },
      "source": [
        "from sklearn.ensemble import GradientBoostingClassifier\n",
        "clf = GradientBoostingClassifier(n_estimators=40, learning_rate=0.1, max_depth=2, random_state=0)\n",
        "clf.fit(X_train, y_train)\n",
        "y_test_predicted = clf.predict(X_test)\n",
        "\n",
        "y_test = pd.DataFrame(y_test)\n",
        "y_test_predicted = pd.DataFrame(y_test_predicted)\n"
      ],
      "execution_count": 143,
      "outputs": []
    },
    {
      "cell_type": "markdown",
      "metadata": {
        "id": "OjDNpQ3jar_m"
      },
      "source": [
        "A continuación se muestra varias predicciones, teniendo como input X_test"
      ]
    },
    {
      "cell_type": "code",
      "metadata": {
        "colab": {
          "base_uri": "https://localhost:8080/",
          "height": 362
        },
        "id": "p1QUSQWcasO8",
        "outputId": "c9eb8a50-66d0-4680-844c-8823b67e7c37"
      },
      "source": [
        "compare = pd.DataFrame(data = np.concatenate((y_test,y_test_predicted),axis=1),columns=['Room y_test','Room y_test_predicted'])\n",
        "compare.head(10)\n"
      ],
      "execution_count": 144,
      "outputs": [
        {
          "output_type": "execute_result",
          "data": {
            "text/html": [
              "<div>\n",
              "<style scoped>\n",
              "    .dataframe tbody tr th:only-of-type {\n",
              "        vertical-align: middle;\n",
              "    }\n",
              "\n",
              "    .dataframe tbody tr th {\n",
              "        vertical-align: top;\n",
              "    }\n",
              "\n",
              "    .dataframe thead th {\n",
              "        text-align: right;\n",
              "    }\n",
              "</style>\n",
              "<table border=\"1\" class=\"dataframe\">\n",
              "  <thead>\n",
              "    <tr style=\"text-align: right;\">\n",
              "      <th></th>\n",
              "      <th>Room y_test</th>\n",
              "      <th>Room y_test_predicted</th>\n",
              "    </tr>\n",
              "  </thead>\n",
              "  <tbody>\n",
              "    <tr>\n",
              "      <th>0</th>\n",
              "      <td>4</td>\n",
              "      <td>4</td>\n",
              "    </tr>\n",
              "    <tr>\n",
              "      <th>1</th>\n",
              "      <td>2</td>\n",
              "      <td>2</td>\n",
              "    </tr>\n",
              "    <tr>\n",
              "      <th>2</th>\n",
              "      <td>1</td>\n",
              "      <td>1</td>\n",
              "    </tr>\n",
              "    <tr>\n",
              "      <th>3</th>\n",
              "      <td>4</td>\n",
              "      <td>4</td>\n",
              "    </tr>\n",
              "    <tr>\n",
              "      <th>4</th>\n",
              "      <td>4</td>\n",
              "      <td>4</td>\n",
              "    </tr>\n",
              "    <tr>\n",
              "      <th>5</th>\n",
              "      <td>4</td>\n",
              "      <td>4</td>\n",
              "    </tr>\n",
              "    <tr>\n",
              "      <th>6</th>\n",
              "      <td>4</td>\n",
              "      <td>4</td>\n",
              "    </tr>\n",
              "    <tr>\n",
              "      <th>7</th>\n",
              "      <td>1</td>\n",
              "      <td>1</td>\n",
              "    </tr>\n",
              "    <tr>\n",
              "      <th>8</th>\n",
              "      <td>2</td>\n",
              "      <td>3</td>\n",
              "    </tr>\n",
              "    <tr>\n",
              "      <th>9</th>\n",
              "      <td>3</td>\n",
              "      <td>3</td>\n",
              "    </tr>\n",
              "  </tbody>\n",
              "</table>\n",
              "</div>"
            ],
            "text/plain": [
              "  Room y_test Room y_test_predicted\n",
              "0           4                     4\n",
              "1           2                     2\n",
              "2           1                     1\n",
              "3           4                     4\n",
              "4           4                     4\n",
              "5           4                     4\n",
              "6           4                     4\n",
              "7           1                     1\n",
              "8           2                     3\n",
              "9           3                     3"
            ]
          },
          "metadata": {
            "tags": []
          },
          "execution_count": 144
        }
      ]
    }
  ]
}